{
 "cells": [
  {
   "cell_type": "code",
   "execution_count": 1,
   "id": "initial_id",
   "metadata": {
    "collapsed": true,
    "ExecuteTime": {
     "end_time": "2023-09-24T11:57:58.705928Z",
     "start_time": "2023-09-24T11:57:51.265448Z"
    }
   },
   "outputs": [],
   "source": [
    "import system_of_cities as sc\n",
    "import linked_census as lc\n",
    "import network_utils as nu\n",
    "import pandas as pd\n",
    "import numpy as np\n",
    "from Plotting.Map import system_of_cities_map\n",
    "from Plotting.Zipf import zipf_exponents_barchart, zipf_plots\n",
    "from Plotting.CommunityQuality import clustered_adjacency_matrix_heatmap, community_block_matrix_heatmap\n",
    "from Plotting.Layout import MapPlotLayout\n",
    "from tqdm import tqdm"
   ]
  },
  {
   "cell_type": "code",
   "execution_count": 2,
   "outputs": [],
   "source": [
    "%load_ext autoreload\n",
    "%autoreload 2"
   ],
   "metadata": {
    "collapsed": false,
    "ExecuteTime": {
     "end_time": "2023-09-24T11:57:58.769829Z",
     "start_time": "2023-09-24T11:57:58.707449Z"
    }
   },
   "id": "3e741e911835b724"
  },
  {
   "cell_type": "code",
   "execution_count": 19,
   "outputs": [],
   "source": [
    "years = [lc.CensusYear.y1860,lc.CensusYear.y1870]"
   ],
   "metadata": {
    "collapsed": false,
    "ExecuteTime": {
     "end_time": "2023-09-18T11:39:15.177910Z",
     "start_time": "2023-09-18T11:39:14.961650Z"
    }
   },
   "id": "cd6c1c7287e056e"
  },
  {
   "cell_type": "code",
   "execution_count": 20,
   "outputs": [
    {
     "name": "stderr",
     "output_type": "stream",
     "text": [
      "  0%|          | 0/2 [00:00<?, ?it/s]2023-09-18 13:39:15,610 - system_of_cities - DEBUG - get_system_of_cities: called with year 1860, sid 0, number of cities None, industry ALL, place_cluster_level 5, backbone_method no_filter, and kwargs {}\n",
      "2023-09-18 13:39:15,611 - system_of_cities - DEBUG - get_system_of_cities: loading migration data\n",
      "2023-09-18 13:39:15,611 - system_of_cities - DEBUG - get_system_of_cities: filtering migration data\n",
      "2023-09-18 13:39:20,297 - system_of_cities - DEBUG - get_system_of_cities: loading city data\n",
      "2023-09-18 13:39:20,312 - system_of_cities - DEBUG - get_system_of_cities: building city network\n",
      "2023-09-18 13:39:20,313 - system_of_cities - DEBUG - _get_city_network: called\n",
      "2023-09-18 13:39:20,319 - system_of_cities - DEBUG - _get_city_network: building city network\n",
      "2023-09-18 13:39:25,445 - system_of_cities - DEBUG - _get_city_network: built network with 10630 vertices and 303213 edges\n",
      "2023-09-18 13:39:25,447 - system_of_cities - DEBUG - _get_city_network: getting city network backbone\n",
      "2023-09-18 13:39:25,448 - system_of_cities - DEBUG - _get_city_network: city network backbone has 10630 vertices and 303213 edges\n",
      "2023-09-18 13:39:25,449 - system_of_cities - DEBUG - _get_city_network: done\n",
      "2023-09-18 13:39:25,452 - system_of_cities - DEBUG - get_system_of_cities: done building system of cities\n",
      "2023-09-18 13:39:25,631 - system_of_cities - DEBUG - identify_subsystems_via_community_detection: called with algorithm leiden and kwargs {'resolution': 0.001, 'n_iterations': 10}\n",
      "2023-09-18 13:39:25,632 - system_of_cities - DEBUG - identify_subsystems_via_community_detection: running community detection\n",
      "2023-09-18 13:39:31,553 - system_of_cities - DEBUG - identify_subsystems_via_community_detection: building system of cities collection\n",
      "2023-09-18 13:39:31,555 - system_of_cities - DEBUG - _build_system_of_cities_collection_from_community_detection_result: called\n",
      "2023-09-18 13:39:31,562 - system_of_cities - DEBUG - get_system_of_cities: called with year 1860, sid 0, number of cities 8489, industry ALL, place_cluster_level 5, backbone_method no_filter, and kwargs {}\n",
      "2023-09-18 13:39:31,563 - system_of_cities - DEBUG - get_system_of_cities: loading migration data\n",
      "2023-09-18 13:39:31,565 - system_of_cities - DEBUG - get_system_of_cities: filtering migration data\n",
      "2023-09-18 13:39:34,128 - system_of_cities - DEBUG - get_system_of_cities: loading city data\n",
      "2023-09-18 13:39:34,137 - system_of_cities - DEBUG - get_system_of_cities: building city network\n",
      "2023-09-18 13:39:34,140 - system_of_cities - DEBUG - _get_city_network: called\n",
      "2023-09-18 13:39:34,146 - system_of_cities - DEBUG - _get_city_network: building city network\n",
      "2023-09-18 13:39:36,006 - system_of_cities - DEBUG - _get_city_network: built network with 8489 vertices and 260108 edges\n",
      "2023-09-18 13:39:36,008 - system_of_cities - DEBUG - _get_city_network: getting city network backbone\n",
      "2023-09-18 13:39:36,009 - system_of_cities - DEBUG - _get_city_network: city network backbone has 8489 vertices and 260108 edges\n",
      "2023-09-18 13:39:36,010 - system_of_cities - DEBUG - _get_city_network: done\n",
      "2023-09-18 13:39:36,011 - system_of_cities - DEBUG - get_system_of_cities: done building system of cities\n",
      "2023-09-18 13:39:36,138 - system_of_cities - DEBUG - get_system_of_cities: called with year 1860, sid 1, number of cities 2133, industry ALL, place_cluster_level 5, backbone_method no_filter, and kwargs {}\n",
      "2023-09-18 13:39:36,139 - system_of_cities - DEBUG - get_system_of_cities: loading migration data\n",
      "2023-09-18 13:39:36,140 - system_of_cities - DEBUG - get_system_of_cities: filtering migration data\n",
      "2023-09-18 13:39:36,281 - system_of_cities - DEBUG - get_system_of_cities: loading city data\n",
      "2023-09-18 13:39:36,291 - system_of_cities - DEBUG - get_system_of_cities: building city network\n",
      "2023-09-18 13:39:36,292 - system_of_cities - DEBUG - _get_city_network: called\n",
      "2023-09-18 13:39:36,293 - system_of_cities - DEBUG - _get_city_network: building city network\n",
      "2023-09-18 13:39:36,363 - system_of_cities - DEBUG - _get_city_network: built network with 2132 vertices and 34388 edges\n",
      "2023-09-18 13:39:36,365 - system_of_cities - DEBUG - _get_city_network: getting city network backbone\n",
      "2023-09-18 13:39:36,367 - system_of_cities - DEBUG - _get_city_network: city network backbone has 2132 vertices and 34388 edges\n",
      "2023-09-18 13:39:36,368 - system_of_cities - DEBUG - _get_city_network: done\n",
      "2023-09-18 13:39:36,370 - system_of_cities - DEBUG - get_system_of_cities: done building system of cities\n",
      "2023-09-18 13:39:36,414 - system_of_cities - DEBUG - _build_system_of_cities_collection_from_community_detection_result: building system of cities collection finished\n",
      " 50%|█████     | 1/2 [00:20<00:20, 20.80s/it]2023-09-18 13:39:36,418 - system_of_cities - DEBUG - get_system_of_cities: called with year 1870, sid 0, number of cities None, industry ALL, place_cluster_level 5, backbone_method no_filter, and kwargs {}\n",
      "2023-09-18 13:39:36,419 - system_of_cities - DEBUG - get_system_of_cities: loading migration data\n",
      "2023-09-18 13:39:36,742 - system_of_cities - DEBUG - get_system_of_cities: filtering migration data\n",
      "2023-09-18 13:39:45,096 - system_of_cities - DEBUG - get_system_of_cities: loading city data\n",
      "2023-09-18 13:39:45,113 - system_of_cities - DEBUG - get_system_of_cities: building city network\n",
      "2023-09-18 13:39:45,114 - system_of_cities - DEBUG - _get_city_network: called\n",
      "2023-09-18 13:39:45,120 - system_of_cities - DEBUG - _get_city_network: building city network\n",
      "2023-09-18 13:39:51,021 - system_of_cities - DEBUG - _get_city_network: built network with 14263 vertices and 451368 edges\n",
      "2023-09-18 13:39:51,024 - system_of_cities - DEBUG - _get_city_network: getting city network backbone\n",
      "2023-09-18 13:39:51,026 - system_of_cities - DEBUG - _get_city_network: city network backbone has 14263 vertices and 451368 edges\n",
      "2023-09-18 13:39:51,027 - system_of_cities - DEBUG - _get_city_network: done\n",
      "2023-09-18 13:39:51,028 - system_of_cities - DEBUG - get_system_of_cities: done building system of cities\n",
      "2023-09-18 13:39:51,196 - system_of_cities - DEBUG - identify_subsystems_via_community_detection: called with algorithm leiden and kwargs {'resolution': 0.001, 'n_iterations': 10}\n",
      "2023-09-18 13:39:51,197 - system_of_cities - DEBUG - identify_subsystems_via_community_detection: running community detection\n",
      "2023-09-18 13:39:58,960 - system_of_cities - DEBUG - identify_subsystems_via_community_detection: building system of cities collection\n",
      "2023-09-18 13:39:58,964 - system_of_cities - DEBUG - _build_system_of_cities_collection_from_community_detection_result: called\n",
      "2023-09-18 13:39:58,968 - system_of_cities - DEBUG - get_system_of_cities: called with year 1870, sid 0, number of cities 11801, industry ALL, place_cluster_level 5, backbone_method no_filter, and kwargs {}\n",
      "2023-09-18 13:39:58,969 - system_of_cities - DEBUG - get_system_of_cities: loading migration data\n",
      "2023-09-18 13:39:58,970 - system_of_cities - DEBUG - get_system_of_cities: filtering migration data\n",
      "2023-09-18 13:40:03,552 - system_of_cities - DEBUG - get_system_of_cities: loading city data\n",
      "2023-09-18 13:40:03,564 - system_of_cities - DEBUG - get_system_of_cities: building city network\n",
      "2023-09-18 13:40:03,565 - system_of_cities - DEBUG - _get_city_network: called\n",
      "2023-09-18 13:40:03,572 - system_of_cities - DEBUG - _get_city_network: building city network\n",
      "2023-09-18 13:40:10,084 - system_of_cities - DEBUG - _get_city_network: built network with 11801 vertices and 393622 edges\n",
      "2023-09-18 13:40:10,085 - system_of_cities - DEBUG - _get_city_network: getting city network backbone\n",
      "2023-09-18 13:40:10,086 - system_of_cities - DEBUG - _get_city_network: city network backbone has 11801 vertices and 393622 edges\n",
      "2023-09-18 13:40:10,089 - system_of_cities - DEBUG - _get_city_network: done\n",
      "2023-09-18 13:40:10,092 - system_of_cities - DEBUG - get_system_of_cities: done building system of cities\n",
      "2023-09-18 13:40:10,296 - system_of_cities - DEBUG - get_system_of_cities: called with year 1870, sid 1, number of cities 2457, industry ALL, place_cluster_level 5, backbone_method no_filter, and kwargs {}\n",
      "2023-09-18 13:40:10,297 - system_of_cities - DEBUG - get_system_of_cities: loading migration data\n",
      "2023-09-18 13:40:10,298 - system_of_cities - DEBUG - get_system_of_cities: filtering migration data\n",
      "2023-09-18 13:40:10,534 - system_of_cities - DEBUG - get_system_of_cities: loading city data\n",
      "2023-09-18 13:40:10,544 - system_of_cities - DEBUG - get_system_of_cities: building city network\n",
      "2023-09-18 13:40:10,545 - system_of_cities - DEBUG - _get_city_network: called\n",
      "2023-09-18 13:40:10,547 - system_of_cities - DEBUG - _get_city_network: building city network\n",
      "2023-09-18 13:40:10,686 - system_of_cities - DEBUG - _get_city_network: built network with 2457 vertices and 47158 edges\n",
      "2023-09-18 13:40:10,687 - system_of_cities - DEBUG - _get_city_network: getting city network backbone\n",
      "2023-09-18 13:40:10,688 - system_of_cities - DEBUG - _get_city_network: city network backbone has 2457 vertices and 47158 edges\n",
      "2023-09-18 13:40:10,693 - system_of_cities - DEBUG - _get_city_network: done\n",
      "2023-09-18 13:40:10,695 - system_of_cities - DEBUG - get_system_of_cities: done building system of cities\n",
      "2023-09-18 13:40:10,721 - system_of_cities - DEBUG - _build_system_of_cities_collection_from_community_detection_result: building system of cities collection finished\n",
      "100%|██████████| 2/2 [00:55<00:00, 27.56s/it]\n"
     ]
    }
   ],
   "source": [
    "collections = []\n",
    "for y in tqdm(years):\n",
    "    parent = sc.get_system_of_cities(year=y,backbone_method=nu.BackBoneMethod.NO)\n",
    "    collection = parent.identify_subsystems_via_community_detection(algorithm=nu.CommunityDetectionAlgorithm.LEIDEN, resolution=0.001, n_iterations=10)\n",
    "    collections.append(collection)"
   ],
   "metadata": {
    "collapsed": false,
    "ExecuteTime": {
     "end_time": "2023-09-18T11:40:10.747859Z",
     "start_time": "2023-09-18T11:39:15.393883Z"
    }
   },
   "id": "38ccd072e094925b"
  },
  {
   "cell_type": "code",
   "execution_count": 21,
   "outputs": [],
   "source": [
    "min_n_cities = 20\n",
    "cutoff_thresholds = [100, 1000, 2000]"
   ],
   "metadata": {
    "collapsed": false,
    "ExecuteTime": {
     "end_time": "2023-09-18T11:40:11.188287Z",
     "start_time": "2023-09-18T11:40:10.753555Z"
    }
   },
   "id": "bd5ee47ba51e643f"
  },
  {
   "cell_type": "code",
   "execution_count": 22,
   "outputs": [],
   "source": [
    "for c in collections:\n",
    "    fig = system_of_cities_map(collection=c, min_n_cities=min_n_cities, layout=MapPlotLayout())\n",
    "    fig.update_layout(width=1000, height=600)\n",
    "    fig.write_image(f\"/Users/anmusso/Desktop/Temp/Map_{c.year.value}_r={0.001}.png\")\n",
    "    fig = community_block_matrix_heatmap(collection=c, min_n_cities=min_n_cities, log_scale=True)\n",
    "    fig.update_layout(width=1000, height=1000)\n",
    "    fig.write_image(f\"/Users/anmusso/Desktop/Temp/Block_{c.year.value}_r={0.001}.png\")"
   ],
   "metadata": {
    "collapsed": false,
    "ExecuteTime": {
     "end_time": "2023-09-18T11:40:30.665931Z",
     "start_time": "2023-09-18T11:40:11.200848Z"
    }
   },
   "id": "6564fd0ea20fbbd4"
  },
  {
   "cell_type": "code",
   "execution_count": 13,
   "outputs": [
    {
     "name": "stdout",
     "output_type": "stream",
     "text": [
      "[[ 0.          0.08319744  0.08124264  0.09143777  0.09549745  0.09801125\n",
      "   0.10286518  0.09044119  0.10909535  0.11402913  0.15962196  0.17133767\n",
      "   0.19892461  0.16897857  0.21138845  0.21698291  0.27707828  0.21866937\n",
      "   0.17799994  0.23032492  0.23536615  0.24014069]\n",
      " [ 0.08319744  0.          0.08401103  0.10714958  0.09677281  0.10141228\n",
      "   0.08930504  0.11212849  0.10281211  0.10194434  0.16592517  0.19912667\n",
      "   0.12572171  0.1316507   0.26382789  0.28978211  0.33072216  0.4222796\n",
      "   0.25696292  0.26943389  0.38513703  0.35724353]\n",
      " [ 0.08124264  0.08401103  0.          0.11826557  0.1114735   0.11416574\n",
      "   0.11053189  0.12286112  0.13603822  0.13245571  0.21366419  0.2240149\n",
      "   0.17688819  0.17779298  0.30266341  0.28385799  0.36170099  0.42386362\n",
      "   0.28478393  0.38513703  1.24266987  0.65691748]\n",
      " [ 0.09143777  0.10714958  0.11826557  0.          0.09290441  0.14826053\n",
      "   0.13673489  0.09615802  0.20248664  0.18309893  0.15263912  0.16502582\n",
      "   0.34434417  0.26214072  0.18963923  0.21065236  0.21161937  0.15035468\n",
      "   0.172016    0.16413001  0.15970366  0.16653114]\n",
      " [ 0.09549745  0.09677281  0.1114735   0.09290441  0.          0.14533808\n",
      "   0.12577098  0.10708314  0.17639832  0.16536483  0.11288336  0.11533663\n",
      "   0.25464754  0.23938695  0.12744131  0.13085798  0.15087646  0.20659356\n",
      "   0.24655963  0.16299451  0.16541692  0.16091264]\n",
      " [ 0.09801125  0.10141228  0.11416574  0.14826053  0.14533808  0.\n",
      "   0.11120967  0.16224919  0.10527729  0.10777184  0.38942338  1.44269504\n",
      "   0.35724353  0.25107042  0.51124444 28.85390082 28.85390082  1.82047845\n",
      "   0.96179669  1.02779668  2.88539008 28.85390082]\n",
      " [ 0.10286518  0.08930504  0.11053189  0.13673489  0.12577098  0.11120967\n",
      "   0.          0.14531257  0.13713538  0.1002664   0.26670686  0.48847867\n",
      "   0.13341667  0.13215722  0.51663553  0.60020326 28.85390082  0.75784636\n",
      "   0.48272628  0.69195251  2.88539008  0.55811063]\n",
      " [ 0.09044119  0.11212849  0.12286112  0.09615802  0.10708314  0.16224919\n",
      "   0.14531257  0.          0.21464182  0.20280637  0.18808445  0.22836828\n",
      "   0.51124444  0.27532925  0.25005203  0.26204073  0.33163727  0.29533654\n",
      "   0.1871053   0.26943389  0.31883297  0.27825479]\n",
      " [ 0.10909535  0.10281211  0.13603822  0.20248664  0.17639832  0.10527729\n",
      "   0.13713538  0.21464182  0.          0.15309683  2.88539008  1.44269504\n",
      "   0.39216713  0.29776994  1.02779668 28.85390082 28.85390082 28.85390082\n",
      "   2.88539008 28.85390082 28.85390082 28.85390082]\n",
      " [ 0.11402913  0.10194434  0.13245571  0.18309893  0.16536483  0.10777184\n",
      "   0.1002664   0.20280637  0.15309683  0.          0.56253283  0.80485921\n",
      "   0.28347432  0.14246464 28.85390082 28.85390082 28.85390082 28.85390082\n",
      "  28.85390082  2.88539008 28.85390082 28.85390082]\n",
      " [ 0.15962196  0.16592517  0.21366419  0.15263912  0.11288336  0.38942338\n",
      "   0.26670686  0.18808445  2.88539008  0.56253283  0.          0.14905192\n",
      "  28.85390082  1.24266987  0.29702668  0.24420622  1.44269504  1.44269504\n",
      "   1.02779668  1.24266987  0.48847867 28.85390082]\n",
      " [ 0.17133767  0.19912667  0.2240149   0.16502582  0.11533663  1.44269504\n",
      "   0.48847867  0.22836828  1.44269504  0.80485921  0.14905192  0.\n",
      "  28.85390082 28.85390082  0.35064451  0.18697226  0.69195251  0.91023923\n",
      "  28.85390082  0.72134752  1.24266987  2.88539008]\n",
      " [ 0.19892461  0.12572171  0.17688819  0.34434417  0.25464754  0.35724353\n",
      "   0.13341667  0.51124444  0.39216713  0.28347432 28.85390082 28.85390082\n",
      "   0.          0.80485921 28.85390082  1.44269504 28.85390082 28.85390082\n",
      "  28.85390082 28.85390082 28.85390082 28.85390082]\n",
      " [ 0.16897857  0.1316507   0.17779298  0.26214072  0.23938695  0.25107042\n",
      "   0.13215722  0.27532925  0.29776994  0.14246464  1.24266987 28.85390082\n",
      "   0.80485921  0.         28.85390082 28.85390082 28.85390082 28.85390082\n",
      "   1.02779668 28.85390082 28.85390082 28.85390082]\n",
      " [ 0.21138845  0.26382789  0.30266341  0.18963923  0.12744131  0.51124444\n",
      "   0.51663553  0.25005203  1.02779668 28.85390082  0.29702668  0.35064451\n",
      "  28.85390082 28.85390082  0.          0.38040927  0.73853875 28.85390082\n",
      "  28.85390082 28.85390082 28.85390082  0.96179669]\n",
      " [ 0.21698291  0.28978211  0.28385799  0.21065236  0.13085798 28.85390082\n",
      "   0.60020326  0.26204073 28.85390082 28.85390082  0.24420622  0.18697226\n",
      "   1.44269504 28.85390082  0.38040927  0.          2.88539008  0.86858896\n",
      "  28.85390082  1.02779668 28.85390082 28.85390082]\n",
      " [ 0.27707828  0.33072216  0.36170099  0.21161937  0.15087646 28.85390082\n",
      "  28.85390082  0.33163727 28.85390082 28.85390082  1.44269504  0.69195251\n",
      "  28.85390082 28.85390082  0.73853875  2.88539008  0.          2.88539008\n",
      "  28.85390082 28.85390082  1.82047845  1.02779668]\n",
      " [ 0.21866937  0.4222796   0.42386362  0.15035468  0.20659356  1.82047845\n",
      "   0.75784636  0.29533654 28.85390082 28.85390082  1.44269504  0.91023923\n",
      "  28.85390082 28.85390082 28.85390082  0.86858896  2.88539008  0.\n",
      "  28.85390082 28.85390082 28.85390082 28.85390082]\n",
      " [ 0.17799994  0.25696292  0.28478393  0.172016    0.24655963  0.96179669\n",
      "   0.48272628  0.1871053   2.88539008 28.85390082  1.02779668 28.85390082\n",
      "  28.85390082  1.02779668 28.85390082 28.85390082 28.85390082 28.85390082\n",
      "   0.         28.85390082 28.85390082 28.85390082]\n",
      " [ 0.23032492  0.26943389  0.38513703  0.16413001  0.16299451  1.02779668\n",
      "   0.69195251  0.26943389 28.85390082  2.88539008  1.24266987  0.72134752\n",
      "  28.85390082 28.85390082 28.85390082  1.02779668 28.85390082 28.85390082\n",
      "  28.85390082  0.          0.96179669 28.85390082]\n",
      " [ 0.23536615  0.38513703  1.24266987  0.15970366  0.16541692  2.88539008\n",
      "   2.88539008  0.31883297 28.85390082 28.85390082  0.48847867  1.24266987\n",
      "  28.85390082 28.85390082 28.85390082 28.85390082  1.82047845 28.85390082\n",
      "  28.85390082  0.96179669  0.          1.82047845]\n",
      " [ 0.24014069  0.35724353  0.65691748  0.16653114  0.16091264 28.85390082\n",
      "   0.55811063  0.27825479 28.85390082 28.85390082 28.85390082  2.88539008\n",
      "  28.85390082 28.85390082  0.96179669 28.85390082  1.02779668 28.85390082\n",
      "  28.85390082 28.85390082  1.82047845  0.        ]]\n"
     ]
    }
   ],
   "source": [
    "fig = community_block_matrix_heatmap(collection=collections[0], min_n_cities=min_n_cities, log_scale=True)\n",
    "fig.show(renderer=\"browser\")"
   ],
   "metadata": {
    "collapsed": false,
    "ExecuteTime": {
     "end_time": "2023-09-17T14:54:44.282784Z",
     "start_time": "2023-09-17T14:54:27.024244Z"
    }
   },
   "id": "885b0c1f8ff19bb2"
  },
  {
   "cell_type": "code",
   "execution_count": 16,
   "outputs": [],
   "source": [
    "fig = zipf_exponents_barchart(collection=collections[0], cutoff_thresholds=cutoff_thresholds, min_n_cities=min_n_cities, r2_threshold=0)\n",
    "fig.show(renderer=\"browser\")"
   ],
   "metadata": {
    "collapsed": false,
    "ExecuteTime": {
     "end_time": "2023-09-17T13:49:37.868399Z",
     "start_time": "2023-09-17T13:49:37.406657Z"
    }
   },
   "id": "7c8eea38749c05e4"
  },
  {
   "cell_type": "code",
   "execution_count": 23,
   "outputs": [],
   "source": [
    "for c in collections:\n",
    "    figs = zipf_plots(collection=c, cutoff_threshold=1000, min_n_cities=min_n_cities)\n",
    "    for i, fig in enumerate(figs):\n",
    "        fig.update_layout(width=1000, height=600)\n",
    "        fig.write_image(f\"/Users/anmusso/Desktop/Temp/Zipf_{c.year.value}_r={0.001}_{i + 1}.png\")"
   ],
   "metadata": {
    "collapsed": false,
    "ExecuteTime": {
     "end_time": "2023-09-18T11:40:36.469770Z",
     "start_time": "2023-09-18T11:40:30.670017Z"
    }
   },
   "id": "5ae96805d7d8ba93"
  },
  {
   "cell_type": "code",
   "execution_count": 47,
   "outputs": [
    {
     "name": "stdout",
     "output_type": "stream",
     "text": [
      "(59, 17)\n"
     ]
    },
    {
     "ename": "ValueError",
     "evalue": "The matrix argument must be square.",
     "output_type": "error",
     "traceback": [
      "\u001B[0;31m---------------------------------------------------------------------------\u001B[0m",
      "\u001B[0;31mValueError\u001B[0m                                Traceback (most recent call last)",
      "Cell \u001B[0;32mIn[47], line 1\u001B[0m\n\u001B[0;32m----> 1\u001B[0m fig \u001B[38;5;241m=\u001B[39m \u001B[43mcommunity_block_matrix_heatmap\u001B[49m\u001B[43m(\u001B[49m\u001B[43mcollection\u001B[49m\u001B[38;5;241;43m=\u001B[39;49m\u001B[43mcollections\u001B[49m\u001B[43m[\u001B[49m\u001B[38;5;241;43m0\u001B[39;49m\u001B[43m]\u001B[49m\u001B[43m,\u001B[49m\u001B[43m \u001B[49m\u001B[43mmin_n_cities\u001B[49m\u001B[38;5;241;43m=\u001B[39;49m\u001B[43mmin_n_cities\u001B[49m\u001B[43m,\u001B[49m\u001B[43m \u001B[49m\u001B[43mlog_scale\u001B[49m\u001B[38;5;241;43m=\u001B[39;49m\u001B[38;5;28;43;01mTrue\u001B[39;49;00m\u001B[43m)\u001B[49m\n\u001B[1;32m      2\u001B[0m fig\u001B[38;5;241m.\u001B[39mshow(renderer\u001B[38;5;241m=\u001B[39m\u001B[38;5;124m\"\u001B[39m\u001B[38;5;124mbrowser\u001B[39m\u001B[38;5;124m\"\u001B[39m)\n",
      "File \u001B[0;32m~/Desktop/PhD/Projects/Current/ZipfLaw/ZipfLaw/Plotting/CommunityQuality.py:25\u001B[0m, in \u001B[0;36mcommunity_block_matrix_heatmap\u001B[0;34m(collection, min_n_cities, log_scale)\u001B[0m\n\u001B[1;32m     23\u001B[0m n_cities_systems \u001B[38;5;241m=\u001B[39m collection\u001B[38;5;241m.\u001B[39mget_systems_n_cities()\n\u001B[1;32m     24\u001B[0m large_systems_ids \u001B[38;5;241m=\u001B[39m n_cities_systems\u001B[38;5;241m.\u001B[39mloc[n_cities_systems[\u001B[38;5;124m'\u001B[39m\u001B[38;5;124mn_cities\u001B[39m\u001B[38;5;124m'\u001B[39m] \u001B[38;5;241m>\u001B[39m\u001B[38;5;241m=\u001B[39m min_n_cities]\u001B[38;5;241m.\u001B[39mindex\n\u001B[0;32m---> 25\u001B[0m block_matrix \u001B[38;5;241m=\u001B[39m \u001B[43mcollection\u001B[49m\u001B[38;5;241;43m.\u001B[39;49m\u001B[43mcommunity_detection_result\u001B[49m\u001B[38;5;241;43m.\u001B[39;49m\u001B[43mget_block_matrix\u001B[49m\u001B[43m(\u001B[49m\u001B[43m)\u001B[49m\n\u001B[1;32m     26\u001B[0m block_matrix_largest_systems \u001B[38;5;241m=\u001B[39m block_matrix\u001B[38;5;241m.\u001B[39mloc[large_systems_ids, large_systems_ids]\n\u001B[1;32m     27\u001B[0m block_matrix_largest_systems \u001B[38;5;241m=\u001B[39m np\u001B[38;5;241m.\u001B[39mlog(block_matrix_largest_systems \u001B[38;5;241m+\u001B[39m \u001B[38;5;241m1\u001B[39m) \u001B[38;5;28;01mif\u001B[39;00m log_scale \u001B[38;5;28;01melse\u001B[39;00m block_matrix_largest_systems\n",
      "File \u001B[0;32m~/Desktop/PhD/Packages/Utils/network_utils/src/network_utils/community_detection.py:71\u001B[0m, in \u001B[0;36mCommunityDetectionResult.get_block_matrix\u001B[0;34m(self)\u001B[0m\n\u001B[1;32m     69\u001B[0m edge_list_with_weights[\u001B[38;5;124m'\u001B[39m\u001B[38;5;124mtarget_community\u001B[39m\u001B[38;5;124m'\u001B[39m] \u001B[38;5;241m=\u001B[39m edge_list_with_weights[\u001B[38;5;124m'\u001B[39m\u001B[38;5;124mtarget\u001B[39m\u001B[38;5;124m'\u001B[39m]\u001B[38;5;241m.\u001B[39mapply(\u001B[38;5;28;01mlambda\u001B[39;00m x: \u001B[38;5;28mself\u001B[39m\u001B[38;5;241m.\u001B[39mvertex_id_to_community_id_map[x])\n\u001B[1;32m     70\u001B[0m block_matrix \u001B[38;5;241m=\u001B[39m edge_list_with_weights\u001B[38;5;241m.\u001B[39mgroupby([\u001B[38;5;124m'\u001B[39m\u001B[38;5;124msource_community\u001B[39m\u001B[38;5;124m'\u001B[39m, \u001B[38;5;124m'\u001B[39m\u001B[38;5;124mtarget_community\u001B[39m\u001B[38;5;124m'\u001B[39m])[\u001B[38;5;124m'\u001B[39m\u001B[38;5;124mweight\u001B[39m\u001B[38;5;124m'\u001B[39m]\u001B[38;5;241m.\u001B[39msum()\u001B[38;5;241m.\u001B[39munstack()\u001B[38;5;241m.\u001B[39mfillna(\u001B[38;5;241m0\u001B[39m)\n\u001B[0;32m---> 71\u001B[0m block_matrix \u001B[38;5;241m=\u001B[39m \u001B[43mCommunityDetectionResult\u001B[49m\u001B[38;5;241;43m.\u001B[39;49m\u001B[43mhierarchical_cluster_block_matrix\u001B[49m\u001B[43m(\u001B[49m\u001B[43mmatrix\u001B[49m\u001B[38;5;241;43m=\u001B[39;49m\u001B[43mblock_matrix\u001B[49m\u001B[43m)\u001B[49m\n\u001B[1;32m     72\u001B[0m \u001B[38;5;28;01mreturn\u001B[39;00m block_matrix\n",
      "File \u001B[0;32m~/Desktop/PhD/Packages/Utils/network_utils/src/network_utils/community_detection.py:78\u001B[0m, in \u001B[0;36mCommunityDetectionResult.hierarchical_cluster_block_matrix\u001B[0;34m(matrix)\u001B[0m\n\u001B[1;32m     76\u001B[0m \u001B[38;5;28mprint\u001B[39m(matrix\u001B[38;5;241m.\u001B[39mshape)\n\u001B[1;32m     77\u001B[0m \u001B[38;5;66;03m# Convert the distance matrix into a condensed form\u001B[39;00m\n\u001B[0;32m---> 78\u001B[0m condensed_matrix \u001B[38;5;241m=\u001B[39m \u001B[43msquareform\u001B[49m\u001B[43m(\u001B[49m\u001B[43mmatrix\u001B[49m\u001B[38;5;241;43m.\u001B[39;49m\u001B[43mvalues\u001B[49m\u001B[43m)\u001B[49m\n\u001B[1;32m     80\u001B[0m \u001B[38;5;66;03m# Compute the hierarchical clustering\u001B[39;00m\n\u001B[1;32m     81\u001B[0m linked \u001B[38;5;241m=\u001B[39m linkage(condensed_matrix, method\u001B[38;5;241m=\u001B[39m\u001B[38;5;124m'\u001B[39m\u001B[38;5;124msingle\u001B[39m\u001B[38;5;124m'\u001B[39m)\n",
      "File \u001B[0;32m~/opt/anaconda3/envs/ZipfLaw/lib/python3.8/site-packages/scipy/spatial/distance.py:2352\u001B[0m, in \u001B[0;36msquareform\u001B[0;34m(X, force, checks)\u001B[0m\n\u001B[1;32m   2350\u001B[0m \u001B[38;5;28;01melif\u001B[39;00m \u001B[38;5;28mlen\u001B[39m(s) \u001B[38;5;241m==\u001B[39m \u001B[38;5;241m2\u001B[39m:\n\u001B[1;32m   2351\u001B[0m     \u001B[38;5;28;01mif\u001B[39;00m s[\u001B[38;5;241m0\u001B[39m] \u001B[38;5;241m!=\u001B[39m s[\u001B[38;5;241m1\u001B[39m]:\n\u001B[0;32m-> 2352\u001B[0m         \u001B[38;5;28;01mraise\u001B[39;00m \u001B[38;5;167;01mValueError\u001B[39;00m(\u001B[38;5;124m'\u001B[39m\u001B[38;5;124mThe matrix argument must be square.\u001B[39m\u001B[38;5;124m'\u001B[39m)\n\u001B[1;32m   2353\u001B[0m     \u001B[38;5;28;01mif\u001B[39;00m checks:\n\u001B[1;32m   2354\u001B[0m         is_valid_dm(X, throw\u001B[38;5;241m=\u001B[39m\u001B[38;5;28;01mTrue\u001B[39;00m, name\u001B[38;5;241m=\u001B[39m\u001B[38;5;124m'\u001B[39m\u001B[38;5;124mX\u001B[39m\u001B[38;5;124m'\u001B[39m)\n",
      "\u001B[0;31mValueError\u001B[0m: The matrix argument must be square."
     ]
    }
   ],
   "source": [
    "fig = community_block_matrix_heatmap(collection=collections[0], min_n_cities=min_n_cities, log_scale=True)\n",
    "fig.show(renderer=\"browser\")"
   ],
   "metadata": {
    "collapsed": false,
    "ExecuteTime": {
     "end_time": "2023-09-17T14:04:57.110525Z",
     "start_time": "2023-09-17T14:04:55.527017Z"
    }
   },
   "id": "28d6ed5e728c23c1"
  },
  {
   "cell_type": "code",
   "execution_count": 38,
   "outputs": [],
   "source": [
    "fig = community_block_matrix_heatmap(collection=c, n=n)\n",
    "fig.show(renderer=\"browser\")"
   ],
   "metadata": {
    "collapsed": false,
    "ExecuteTime": {
     "end_time": "2023-09-17T12:10:32.381803Z",
     "start_time": "2023-09-17T12:10:25.751614Z"
    }
   },
   "id": "2a7f154c62e29d42"
  },
  {
   "cell_type": "code",
   "execution_count": 31,
   "outputs": [],
   "source": [
    "import numpy as np\n",
    "from scipy.spatial.distance import squareform\n",
    "from scipy.cluster.hierarchy import linkage, leaves_list\n",
    "\n",
    "def order_distance_matrix(matrix):\n",
    "    # Ensure the matrix is square\n",
    "    assert matrix.shape[0] == matrix.shape[1], \"Matrix must be square\"\n",
    "    \n",
    "    # Convert the distance matrix into a condensed form\n",
    "    condensed_matrix = squareform(matrix)\n",
    "    \n",
    "    # Compute the hierarchical clustering\n",
    "    linked = linkage(condensed_matrix, method='single')\n",
    "    \n",
    "    # Get the order of rows (or columns) from the hierarchy\n",
    "    order = leaves_list(linked)\n",
    "    \n",
    "    # Reorder the matrix\n",
    "    ordered_matrix = matrix[order, :]\n",
    "    ordered_matrix = ordered_matrix[:, order]\n",
    "    \n",
    "    return ordered_matrix"
   ],
   "metadata": {
    "collapsed": false,
    "ExecuteTime": {
     "end_time": "2023-09-17T13:56:02.077369Z",
     "start_time": "2023-09-17T13:56:02.000969Z"
    }
   },
   "id": "1e092572dc469034"
  }
 ],
 "metadata": {
  "kernelspec": {
   "display_name": "Python 3",
   "language": "python",
   "name": "python3"
  },
  "language_info": {
   "codemirror_mode": {
    "name": "ipython",
    "version": 2
   },
   "file_extension": ".py",
   "mimetype": "text/x-python",
   "name": "python",
   "nbconvert_exporter": "python",
   "pygments_lexer": "ipython2",
   "version": "2.7.6"
  }
 },
 "nbformat": 4,
 "nbformat_minor": 5
}
