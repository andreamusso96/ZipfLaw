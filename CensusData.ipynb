{
 "cells": [
  {
   "cell_type": "code",
   "execution_count": 3,
   "id": "initial_id",
   "metadata": {
    "collapsed": true,
    "ExecuteTime": {
     "end_time": "2023-09-11T13:06:03.421097Z",
     "start_time": "2023-09-11T13:06:03.405594Z"
    }
   },
   "outputs": [],
   "source": [
    "import linked_census as lc\n",
    "import pandas as pd\n",
    "from tqdm import tqdm"
   ]
  },
  {
   "cell_type": "markdown",
   "source": [
    "# Migration and population data from census"
   ],
   "metadata": {
    "collapsed": false
   },
   "id": "974f627425d32049"
  },
  {
   "cell_type": "code",
   "execution_count": 3,
   "outputs": [],
   "source": [
    "path_save = '/cluster/work/gess/coss/users/anmusso/Packages/Data/system_of_cities/data'"
   ],
   "metadata": {
    "collapsed": false,
    "ExecuteTime": {
     "end_time": "2023-09-11T09:52:34.616147Z",
     "start_time": "2023-09-11T09:52:34.612218Z"
    }
   },
   "id": "2df25c8fa9444948"
  },
  {
   "cell_type": "code",
   "execution_count": null,
   "outputs": [],
   "source": [
    "for y in tqdm(lc.CensusYear):\n",
    "    migrations = lc.get_intercity_migrations(census_year=y, industry=lc.Industry.ALL, cluster_level=lc.PlaceClusterLevel.l5)\n",
    "    migrations.to_csv(f'{path_save}/intercity_migrations_{y}_{lc.Industry.ALL.value.lower()}.csv.gz', compression='gzip')"
   ],
   "metadata": {
    "collapsed": false
   },
   "id": "45e7353f1d3cb7a1"
  },
  {
   "cell_type": "code",
   "execution_count": null,
   "outputs": [],
   "source": [
    "populations = []\n",
    "for y in tqdm(lc.CensusYear):\n",
    "    population = lc.get_city_population(census_year=y, cluster_level=lc.PlaceClusterLevel.l5)\n",
    "    population.rename(columns={'population': f'population_{y.value}'}, inplace=True)\n",
    "    populations.append(population)\n",
    "    \n",
    "populations = pd.concat(populations, axis=1)\n",
    "populations.fillna(0, inplace=True)\n",
    "\n",
    "place_info = lc.data.place_data[[f'consistent_place_{lc.PlaceClusterLevel.l5.value}', f'consistent_place_name_{lc.PlaceClusterLevel.l5.value}', 'lat', 'lon']]\n",
    "place_info.groupby(f'consistent_place_{lc.PlaceClusterLevel.l5.value}').agg({'lat': 'mean', 'lon': 'mean', f'consistent_place_name_{lc.PlaceClusterLevel.l5.value}': 'first'})\n",
    "place_info.rename(columns={'consistent_place_name_{lc.PlaceClusterLevel.l5.value}': 'city_name'})\n",
    "\n",
    "populations = populations.merge(place_info, left_index=True, right_index=True)\n",
    "populations.to_csv(f'{path_save}/place_data_cluster_{lc.PlaceClusterLevel.l5.value}.csv')"
   ],
   "metadata": {
    "collapsed": false
   },
   "id": "b3c2300c10ecae3"
  }
 ],
 "metadata": {
  "kernelspec": {
   "display_name": "Python 3",
   "language": "python",
   "name": "python3"
  },
  "language_info": {
   "codemirror_mode": {
    "name": "ipython",
    "version": 2
   },
   "file_extension": ".py",
   "mimetype": "text/x-python",
   "name": "python",
   "nbconvert_exporter": "python",
   "pygments_lexer": "ipython2",
   "version": "2.7.6"
  }
 },
 "nbformat": 4,
 "nbformat_minor": 5
}
